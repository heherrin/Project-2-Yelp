{
 "cells": [
  {
   "cell_type": "code",
   "execution_count": 1,
   "metadata": {},
   "outputs": [
    {
     "data": {
      "text/plain": [
       "4"
      ]
     },
     "execution_count": 1,
     "metadata": {},
     "output_type": "execute_result"
    }
   ],
   "source": [
    "# Get list of 100 largest cities in US by population\n",
    "\n",
    "\n",
    "import pandas as pd\n",
    "import requests\n",
    "url = \"https://www.nationalpopularvote.com/100-biggest-cities-have-59849899-people-and-rural-areas-have-59492267-people\"\n",
    "response = requests.get(url)\n",
    "tables = pd.read_html(url)\n",
    "cities = tables[0]\n",
    "cities = cities.rename(columns=cities.iloc[0])\n",
    "cities = cities[['City']]\n",
    "city_list = (cities['City']).tolist()\n",
    "city_list = city_list[1:5]\n",
    "len(city_list)"
   ]
  },
  {
   "cell_type": "code",
   "execution_count": 2,
   "metadata": {},
   "outputs": [],
   "source": [
    "client_id = 'QFEVJMDVtV4QHEUVepKk1w'\n",
    "api_key = '9OcFOk6yy50Q515gwbQBpIJkBjiSbLfJkERDt0PBL2ccytMe8euGxRQsECS6DbH0P1vvBjxMHaVvnhVY-BDXpHLCzugOE5l6gcNjMBGArfR6d4MpjclMXHnjVaIHYHYx'\n",
    "\n",
    "\n",
    "from yelpapi import YelpAPI\n",
    "yelp_api = YelpAPI(api_key)\n",
    "\n"
   ]
  },
  {
   "cell_type": "code",
   "execution_count": 8,
   "metadata": {},
   "outputs": [
    {
     "name": "stdout",
     "output_type": "stream",
     "text": [
      "dict_keys(['id', 'alias', 'name', 'image_url', 'is_closed', 'url', 'review_count', 'categories', 'rating', 'coordinates', 'transactions', 'price', 'location', 'phone', 'display_phone', 'distance'])\n",
      "dict_keys(['id', 'alias', 'name', 'image_url', 'is_closed', 'url', 'review_count', 'categories', 'rating', 'coordinates', 'transactions', 'location', 'phone', 'display_phone', 'distance'])\n",
      "dict_keys(['id', 'alias', 'name', 'image_url', 'is_closed', 'url', 'review_count', 'categories', 'rating', 'coordinates', 'transactions', 'price', 'location', 'phone', 'display_phone', 'distance'])\n",
      "dict_keys(['id', 'alias', 'name', 'image_url', 'is_closed', 'url', 'review_count', 'categories', 'rating', 'coordinates', 'transactions', 'price', 'location', 'phone', 'display_phone', 'distance'])\n",
      "dict_keys(['id', 'alias', 'name', 'image_url', 'is_closed', 'url', 'review_count', 'categories', 'rating', 'coordinates', 'transactions', 'price', 'location', 'phone', 'display_phone', 'distance'])\n",
      "dict_keys(['id', 'alias', 'name', 'image_url', 'is_closed', 'url', 'review_count', 'categories', 'rating', 'coordinates', 'transactions', 'price', 'location', 'phone', 'display_phone', 'distance'])\n",
      "dict_keys(['id', 'alias', 'name', 'image_url', 'is_closed', 'url', 'review_count', 'categories', 'rating', 'coordinates', 'transactions', 'price', 'location', 'phone', 'display_phone', 'distance'])\n",
      "dict_keys(['id', 'alias', 'name', 'image_url', 'is_closed', 'url', 'review_count', 'categories', 'rating', 'coordinates', 'transactions', 'price', 'location', 'phone', 'display_phone', 'distance'])\n",
      "[{'id': 'ETgJqJHV7BW6pIr9Ox74sA', 'review_count': 2700}, {'id': 'br6HJD_UZ_LSU36tBZGSuw', 'review_count': 7}, {'id': '6i7KnRylm4bhPIApDFSVCg', 'review_count': 3390}, {'id': 'kdTFcDSl9vAR-btEm1Q2uw', 'review_count': 3013}, {'id': 'VPJk-SEWSWS_nGoQvM-COw', 'review_count': 579}, {'id': 'xoi7Cw7FoknAx5p880RtWQ', 'review_count': 7238}, {'id': 'sICvh8l9t31JcDgwweNe8A', 'review_count': 1523}, {'id': 'RoU8KznQMrRFcIjYVtdZMw', 'review_count': 1911}]\n"
     ]
    }
   ],
   "source": [
    "records = []\n",
    "\n",
    "term = 'restaurant'\n",
    "search_limit = 2\n",
    "\n",
    "for location in city_list:\n",
    "    response = yelp_api.search_query(term = term,\n",
    "                                  location = location,\n",
    "                                  limit = search_limit)\n",
    "    for business in response['businesses']:\n",
    "        print(business.keys())\n",
    "        record = {\n",
    "            'id':business['id'],\n",
    "            'review_count':business['review_count']\n",
    "        }\n",
    "    \n",
    "        records.append(record)\n",
    "        \n",
    "        \n",
    "print(records)\n",
    "\n",
    "    \n"
   ]
  },
  {
   "cell_type": "code",
   "execution_count": 4,
   "metadata": {},
   "outputs": [
    {
     "data": {
      "text/plain": [
       "{'businesses': [{'id': 'sICvh8l9t31JcDgwweNe8A',\n",
       "   'alias': 'the-turkey-leg-hut-houston-4',\n",
       "   'name': 'The Turkey Leg Hut',\n",
       "   'image_url': 'https://s3-media4.fl.yelpcdn.com/bphoto/3w4iXKZSvyspCV958KL6lA/o.jpg',\n",
       "   'is_closed': False,\n",
       "   'url': 'https://www.yelp.com/biz/the-turkey-leg-hut-houston-4?adjust_creative=QFEVJMDVtV4QHEUVepKk1w&utm_campaign=yelp_api_v3&utm_medium=api_v3_business_search&utm_source=QFEVJMDVtV4QHEUVepKk1w',\n",
       "   'review_count': 1523,\n",
       "   'categories': [{'alias': 'southern', 'title': 'Southern'},\n",
       "    {'alias': 'cajun', 'title': 'Cajun/Creole'}],\n",
       "   'rating': 4.0,\n",
       "   'coordinates': {'latitude': 29.7258417786263,\n",
       "    'longitude': -95.3780490159988},\n",
       "   'transactions': ['delivery'],\n",
       "   'price': '$$',\n",
       "   'location': {'address1': '4830 Almeda Rd',\n",
       "    'address2': 'Ste A, B',\n",
       "    'address3': None,\n",
       "    'city': 'Houston',\n",
       "    'zip_code': '77004',\n",
       "    'country': 'US',\n",
       "    'state': 'TX',\n",
       "    'display_address': ['4830 Almeda Rd', 'Ste A, B', 'Houston, TX 77004']},\n",
       "   'phone': '+18327870770',\n",
       "   'display_phone': '(832) 787-0770',\n",
       "   'distance': 4488.543460662503},\n",
       "  {'id': 'RoU8KznQMrRFcIjYVtdZMw',\n",
       "   'alias': 'the-pit-room-houston',\n",
       "   'name': 'The Pit Room',\n",
       "   'image_url': 'https://s3-media2.fl.yelpcdn.com/bphoto/kOrAG30CDxnW9FHW7nEL-Q/o.jpg',\n",
       "   'is_closed': False,\n",
       "   'url': 'https://www.yelp.com/biz/the-pit-room-houston?adjust_creative=QFEVJMDVtV4QHEUVepKk1w&utm_campaign=yelp_api_v3&utm_medium=api_v3_business_search&utm_source=QFEVJMDVtV4QHEUVepKk1w',\n",
       "   'review_count': 1911,\n",
       "   'categories': [{'alias': 'bbq', 'title': 'Barbeque'}],\n",
       "   'rating': 4.5,\n",
       "   'coordinates': {'latitude': 29.7342352703345,\n",
       "    'longitude': -95.3939679771603},\n",
       "   'transactions': ['delivery'],\n",
       "   'price': '$$',\n",
       "   'location': {'address1': '1201 Richmond Ave',\n",
       "    'address2': '',\n",
       "    'address3': '',\n",
       "    'city': 'Houston',\n",
       "    'zip_code': '77006',\n",
       "    'country': 'US',\n",
       "    'state': 'TX',\n",
       "    'display_address': ['1201 Richmond Ave', 'Houston, TX 77006']},\n",
       "   'phone': '+12818881929',\n",
       "   'display_phone': '(281) 888-1929',\n",
       "   'distance': 4585.949510953171}],\n",
       " 'total': 2800,\n",
       " 'region': {'center': {'longitude': -95.35995483398438,\n",
       "   'latitude': 29.763025675716687}}}"
      ]
     },
     "execution_count": 4,
     "metadata": {},
     "output_type": "execute_result"
    }
   ],
   "source": [
    "response"
   ]
  },
  {
   "cell_type": "code",
   "execution_count": 5,
   "metadata": {},
   "outputs": [
    {
     "data": {
      "text/plain": [
       "['New York, NY', 'Los Angeles, CA', 'Chicago, IL', 'Houston, TX']"
      ]
     },
     "execution_count": 5,
     "metadata": {},
     "output_type": "execute_result"
    }
   ],
   "source": [
    "city_list"
   ]
  },
  {
   "cell_type": "code",
   "execution_count": 6,
   "metadata": {},
   "outputs": [
    {
     "data": {
      "text/html": [
       "<div>\n",
       "<style scoped>\n",
       "    .dataframe tbody tr th:only-of-type {\n",
       "        vertical-align: middle;\n",
       "    }\n",
       "\n",
       "    .dataframe tbody tr th {\n",
       "        vertical-align: top;\n",
       "    }\n",
       "\n",
       "    .dataframe thead th {\n",
       "        text-align: right;\n",
       "    }\n",
       "</style>\n",
       "<table border=\"1\" class=\"dataframe\">\n",
       "  <thead>\n",
       "    <tr style=\"text-align: right;\">\n",
       "      <th></th>\n",
       "      <th>New York, NY</th>\n",
       "      <th>Los Angeles, CA</th>\n",
       "      <th>Chicago, IL</th>\n",
       "      <th>Houston, TX</th>\n",
       "    </tr>\n",
       "  </thead>\n",
       "  <tbody>\n",
       "    <tr>\n",
       "      <th>businesses</th>\n",
       "      <td>[{'id': 'ETgJqJHV7BW6pIr9Ox74sA', 'alias': 'am...</td>\n",
       "      <td>[{'id': '6i7KnRylm4bhPIApDFSVCg', 'alias': 'da...</td>\n",
       "      <td>[{'id': 'VPJk-SEWSWS_nGoQvM-COw', 'alias': 'pe...</td>\n",
       "      <td>[{'id': 'sICvh8l9t31JcDgwweNe8A', 'alias': 'th...</td>\n",
       "    </tr>\n",
       "    <tr>\n",
       "      <th>total</th>\n",
       "      <td>18700</td>\n",
       "      <td>8400</td>\n",
       "      <td>5900</td>\n",
       "      <td>2800</td>\n",
       "    </tr>\n",
       "    <tr>\n",
       "      <th>region</th>\n",
       "      <td>{'center': {'longitude': -73.99429321289062, '...</td>\n",
       "      <td>{'center': {'longitude': -118.32138061523438, ...</td>\n",
       "      <td>{'center': {'longitude': -87.67776489257812, '...</td>\n",
       "      <td>{'center': {'longitude': -95.35995483398438, '...</td>\n",
       "    </tr>\n",
       "  </tbody>\n",
       "</table>\n",
       "</div>"
      ],
      "text/plain": [
       "                                                 New York, NY  \\\n",
       "businesses  [{'id': 'ETgJqJHV7BW6pIr9Ox74sA', 'alias': 'am...   \n",
       "total                                                   18700   \n",
       "region      {'center': {'longitude': -73.99429321289062, '...   \n",
       "\n",
       "                                              Los Angeles, CA  \\\n",
       "businesses  [{'id': '6i7KnRylm4bhPIApDFSVCg', 'alias': 'da...   \n",
       "total                                                    8400   \n",
       "region      {'center': {'longitude': -118.32138061523438, ...   \n",
       "\n",
       "                                                  Chicago, IL  \\\n",
       "businesses  [{'id': 'VPJk-SEWSWS_nGoQvM-COw', 'alias': 'pe...   \n",
       "total                                                    5900   \n",
       "region      {'center': {'longitude': -87.67776489257812, '...   \n",
       "\n",
       "                                                  Houston, TX  \n",
       "businesses  [{'id': 'sICvh8l9t31JcDgwweNe8A', 'alias': 'th...  \n",
       "total                                                    2800  \n",
       "region      {'center': {'longitude': -95.35995483398438, '...  "
      ]
     },
     "execution_count": 6,
     "metadata": {},
     "output_type": "execute_result"
    }
   ],
   "source": [
    "df = pd.DataFrame.from_dict(response_dict)\n",
    "df"
   ]
  },
  {
   "cell_type": "code",
   "execution_count": null,
   "metadata": {},
   "outputs": [],
   "source": []
  }
 ],
 "metadata": {
  "kernelspec": {
   "display_name": "Python 3",
   "language": "python",
   "name": "python3"
  },
  "language_info": {
   "codemirror_mode": {
    "name": "ipython",
    "version": 3
   },
   "file_extension": ".py",
   "mimetype": "text/x-python",
   "name": "python",
   "nbconvert_exporter": "python",
   "pygments_lexer": "ipython3",
   "version": "3.7.1"
  }
 },
 "nbformat": 4,
 "nbformat_minor": 4
}
